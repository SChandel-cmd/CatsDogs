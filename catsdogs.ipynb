{
  "nbformat": 4,
  "nbformat_minor": 0,
  "metadata": {
    "colab": {
      "name": "catsdogs.ipynb",
      "provenance": []
    },
    "kernelspec": {
      "name": "python3",
      "display_name": "Python 3"
    },
    "language_info": {
      "name": "python"
    }
  },
  "cells": [
    {
      "cell_type": "code",
      "metadata": {
        "id": "J8xgy_HM37JJ"
      },
      "source": [
        "import pickle\n",
        "import matplotlib.pyplot as plt"
      ],
      "execution_count": null,
      "outputs": []
    },
    {
      "cell_type": "code",
      "metadata": {
        "colab": {
          "base_uri": "https://localhost:8080/"
        },
        "id": "lRcg1xK88D9a",
        "outputId": "503b1b38-a91f-4280-b6b8-0c8b5518082f"
      },
      "source": [
        "from google.colab import drive\n",
        "drive.mount('/content/gdrive')"
      ],
      "execution_count": null,
      "outputs": [
        {
          "output_type": "stream",
          "text": [
            "Mounted at /content/gdrive\n"
          ],
          "name": "stdout"
        }
      ]
    },
    {
      "cell_type": "code",
      "metadata": {
        "id": "zaNhpOp7C2rC"
      },
      "source": [
        ""
      ],
      "execution_count": null,
      "outputs": []
    },
    {
      "cell_type": "code",
      "metadata": {
        "id": "U8uQzuXM4AtU"
      },
      "source": [
        "path=\"/content/gdrive/MyDrive/ml project\"\n",
        "X = pickle.load(open(path + 'X.pkl','rb'))\n",
        "y = pickle.load(open(path+ 'y.pkl','rb'))"
      ],
      "execution_count": null,
      "outputs": []
    },
    {
      "cell_type": "code",
      "metadata": {
        "id": "WTGN7aQb9fUV"
      },
      "source": [
        "X=X/255"
      ],
      "execution_count": null,
      "outputs": []
    },
    {
      "cell_type": "code",
      "metadata": {
        "colab": {
          "base_uri": "https://localhost:8080/"
        },
        "id": "zE-HqYFx9n2a",
        "outputId": "99f3708e-e830-475c-ab9d-f699d1198c64"
      },
      "source": [
        "X.shape"
      ],
      "execution_count": null,
      "outputs": [
        {
          "output_type": "execute_result",
          "data": {
            "text/plain": [
              "(23000, 100, 100, 3)"
            ]
          },
          "metadata": {
            "tags": []
          },
          "execution_count": 7
        }
      ]
    },
    {
      "cell_type": "code",
      "metadata": {
        "id": "8xju53mODDlM"
      },
      "source": [
        "from keras.models import Sequential\n",
        "from keras.layers import Conv2D, MaxPooling2D, Flatten, Dense"
      ],
      "execution_count": null,
      "outputs": []
    },
    {
      "cell_type": "code",
      "metadata": {
        "id": "SLvryk_6DaNt"
      },
      "source": [
        "model = Sequential()\n",
        "\n",
        "model.add(Conv2D(64, (3,3), activation=\"relu\"))\n",
        "model.add(MaxPooling2D((2,2)))\n",
        "\n",
        "model.add(Conv2D(64, (3,3), activation=\"relu\"))\n",
        "model.add(MaxPooling2D((2,2)))\n",
        "\n",
        "model.add(Flatten())\n",
        "\n",
        "model.add(Dense(128, input_shape = X.shape[1:], activation = \"relu\"))\n",
        "\n",
        "model.add(Dense(2, activation = \"softmax\"))\n",
        "\n",
        "\n",
        "\n",
        "\n"
      ],
      "execution_count": null,
      "outputs": []
    },
    {
      "cell_type": "code",
      "metadata": {
        "id": "N6GHpoMOGrB4"
      },
      "source": [
        "model.compile(optimizer = 'adam', loss = 'sparse_categorical_crossentropy', metrics = ['accuracy'])"
      ],
      "execution_count": null,
      "outputs": []
    },
    {
      "cell_type": "code",
      "metadata": {
        "colab": {
          "base_uri": "https://localhost:8080/"
        },
        "id": "ii6P0uLNG8os",
        "outputId": "e4dda460-d08a-4ae5-ac1c-5dfbed45362a"
      },
      "source": [
        "model.fit(X, y, epochs=5, validation_split = 0.1)"
      ],
      "execution_count": null,
      "outputs": [
        {
          "output_type": "stream",
          "text": [
            "Epoch 1/5\n",
            "647/647 [==============================] - 447s 690ms/step - loss: 0.7324 - accuracy: 0.5840 - val_loss: 0.5900 - val_accuracy: 0.6704\n",
            "Epoch 2/5\n",
            "647/647 [==============================] - 449s 694ms/step - loss: 0.5778 - accuracy: 0.6999 - val_loss: 0.5739 - val_accuracy: 0.7035\n",
            "Epoch 3/5\n",
            "647/647 [==============================] - 444s 686ms/step - loss: 0.4970 - accuracy: 0.7558 - val_loss: 0.5272 - val_accuracy: 0.7396\n",
            "Epoch 4/5\n",
            "647/647 [==============================] - 444s 686ms/step - loss: 0.3651 - accuracy: 0.8378 - val_loss: 0.4961 - val_accuracy: 0.7596\n",
            "Epoch 5/5\n",
            "647/647 [==============================] - 444s 687ms/step - loss: 0.2072 - accuracy: 0.9200 - val_loss: 0.5889 - val_accuracy: 0.7765\n"
          ],
          "name": "stdout"
        },
        {
          "output_type": "execute_result",
          "data": {
            "text/plain": [
              "<tensorflow.python.keras.callbacks.History at 0x7f0a4c53a690>"
            ]
          },
          "metadata": {
            "tags": []
          },
          "execution_count": 11
        }
      ]
    },
    {
      "cell_type": "code",
      "metadata": {
        "colab": {
          "base_uri": "https://localhost:8080/"
        },
        "id": "thXt56zM5FDa",
        "outputId": "70d1d31e-c27c-42c5-c2af-1e15c5de30aa"
      },
      "source": [
        "model.history.history"
      ],
      "execution_count": null,
      "outputs": [
        {
          "output_type": "execute_result",
          "data": {
            "text/plain": [
              "{'accuracy': [0.6236231923103333,\n",
              "  0.7003864645957947,\n",
              "  0.7626569867134094,\n",
              "  0.8384541273117065,\n",
              "  0.9158937335014343],\n",
              " 'loss': [0.6568674445152283,\n",
              "  0.5742529034614563,\n",
              "  0.4883871078491211,\n",
              "  0.36294448375701904,\n",
              "  0.2096031904220581],\n",
              " 'val_accuracy': [0.6704347729682922,\n",
              "  0.7034782767295837,\n",
              "  0.7395651936531067,\n",
              "  0.7595652341842651,\n",
              "  0.7765217423439026],\n",
              " 'val_loss': [0.58997642993927,\n",
              "  0.5738506317138672,\n",
              "  0.5271620750427246,\n",
              "  0.4961198568344116,\n",
              "  0.5888614058494568]}"
            ]
          },
          "metadata": {
            "tags": []
          },
          "execution_count": 22
        }
      ]
    },
    {
      "cell_type": "code",
      "metadata": {
        "colab": {
          "base_uri": "https://localhost:8080/",
          "height": 312
        },
        "id": "q6ZjPIOCC9KZ",
        "outputId": "dd079fd0-b879-42cf-9139-7d326e1c3669"
      },
      "source": [
        "plt.plot(model.history.history['accuracy'])\n",
        "plt.plot(model.history.history['val_accuracy'])\n",
        "plt.title('Model accuracy')\n",
        "plt.ylabel('Accuracy')\n",
        "plt.xlabel('Epoch')\n",
        "plt.legend(['train','val'],loc='upper left')\n",
        "plt.show"
      ],
      "execution_count": null,
      "outputs": [
        {
          "output_type": "execute_result",
          "data": {
            "text/plain": [
              "<function matplotlib.pyplot.show>"
            ]
          },
          "metadata": {
            "tags": []
          },
          "execution_count": 23
        },
        {
          "output_type": "display_data",
          "data": {
            "image/png": "[encoded data removed]",
            "text/plain": [
              "<Figure size 432x288 with 1 Axes>"
            ]
          },
          "metadata": {
            "tags": [],
            "needs_background": "light"
          }
        }
      ]
    },
    {
      "cell_type": "code",
      "metadata": {
        "colab": {
          "base_uri": "https://localhost:8080/",
          "height": 312
        },
        "id": "QTopYVgVEImA",
        "outputId": "1f121260-1dc8-4ba0-9021-f04cdc67ee5e"
      },
      "source": [
        "plt.plot(model.history.history['loss'])\n",
        "plt.plot(model.history.history['val_loss'])\n",
        "plt.title('Model loss')\n",
        "plt.ylabel('Loss')\n",
        "plt.xlabel('Epoch')\n",
        "plt.legend(['train','loss'],loc='upper left')\n",
        "plt.show"
      ],
      "execution_count": null,
      "outputs": [
        {
          "output_type": "execute_result",
          "data": {
            "text/plain": [
              "<function matplotlib.pyplot.show>"
            ]
          },
          "metadata": {
            "tags": []
          },
          "execution_count": 24
        },
        {
          "output_type": "display_data",
          "data": {
            "image/png": "[encoded data removed]",
            "text/plain": [
              "<Figure size 432x288 with 1 Axes>"
            ]
          },
          "metadata": {
            "tags": [],
            "needs_background": "light"
          }
        }
      ]
    },
    {
      "cell_type": "code",
      "metadata": {
        "id": "GQOMGhGVEFNz"
      },
      "source": [
        ""
      ],
      "execution_count": null,
      "outputs": []
    }
  ]
}